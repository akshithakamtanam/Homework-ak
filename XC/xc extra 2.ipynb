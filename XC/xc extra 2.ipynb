{
  "cells": [
    {
      "cell_type": "code",
      "execution_count": null,
      "metadata": {
        "colab": {
          "base_uri": "https://localhost:8080/"
        },
        "id": "GzwB01LO4FO_",
        "outputId": "28b77671-4e61-44c3-fd39-22c8183f49f3"
      },
      "outputs": [
        {
          "name": "stdout",
          "output_type": "stream",
          "text": [
            "Collecting pyngrok\n",
            "  Downloading pyngrok-7.2.7-py3-none-any.whl.metadata (9.4 kB)\n",
            "Requirement already satisfied: PyYAML>=5.1 in /usr/local/lib/python3.11/dist-packages (from pyngrok) (6.0.2)\n",
            "Downloading pyngrok-7.2.7-py3-none-any.whl (23 kB)\n",
            "Installing collected packages: pyngrok\n",
            "Successfully installed pyngrok-7.2.7\n"
          ]
        }
      ],
      "source": [
        "!pip install pyngrok\n"
      ]
    },
    {
      "cell_type": "code",
      "source": [
        "from flask import Flask, render_template, request\n",
        "import pickle\n",
        "import numpy as n\n",
        "app = Flask(__name__)\n",
        "# Loading  the trained model\n",
        "with open('model.pkl', 'rb') as f:\n",
        "    model = pickle.load(f\n",
        "@app.route('/')\n",
        "def index():\n",
        "    return render_template('index.html')  # Render the HTML form\n",
        "@app.route('/predict', methods=['POST'])\n",
        "def predict():\n",
        "    try:\n",
        "        # Extracting  data from the form\n",
        "        feature1 = float(request.form['feature1'])\n",
        "        feature2 = float(request.form['feature2'])\n",
        "        feature3 = float(request.form['feature3'])\n",
        "        feature4 = float(request.form['feature4'])\n",
        "        # Preparing  the data for prediction (make sure it's a 2D array)\n",
        "        features = np.array([[feature1, feature2, feature3, feature4]])\n",
        "        # Getting  prediction from the model\n",
        "        prediction = model.predict(features\n",
        "        # Displaying  the result on the HTML page\n",
        "        return render_template('index.html', prediction=prediction[0])\n",
        "    except Exception as e:\n",
        "        return f\"Error: {str(e)}\"\n",
        "if __name__ == '__main__':\n",
        "    app.run(debug=True)\n"
      ],
      "metadata": {
        "id": "e_Zv8sMRinEd"
      },
      "execution_count": null,
      "outputs": []
    }
  ],
  "metadata": {
    "colab": {
      "provenance": []
    },
    "kernelspec": {
      "display_name": "Python 3",
      "name": "python3"
    },
    "language_info": {
      "name": "python"
    }
  },
  "nbformat": 4,
  "nbformat_minor": 0
}