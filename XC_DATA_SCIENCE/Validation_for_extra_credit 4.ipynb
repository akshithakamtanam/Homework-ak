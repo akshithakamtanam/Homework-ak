{
  "nbformat": 4,
  "nbformat_minor": 0,
  "metadata": {
    "colab": {
      "provenance": []
    },
    "kernelspec": {
      "name": "python3",
      "display_name": "Python 3"
    },
    "language_info": {
      "name": "python"
    }
  },
  "cells": [
    {
      "cell_type": "markdown",
      "source": [
        "Authors:\n",
        "\n",
        "Naga Jahnavi Kancharla\n",
        "\n",
        "Sowmya Reddy Uppaluru\n",
        "\n",
        "Venkatesh Yadav Edamoni\n",
        "\n",
        "AKshitha Kamatanam\n",
        "\n",
        "Poojitha Sangavi Dunaboina"
      ],
      "metadata": {
        "id": "jSaA2xyBO4uK"
      }
    },
    {
      "cell_type": "markdown",
      "source": [
        "Here Iris dataset is split into  Training 60% , validation 20% , Testing 20%"
      ],
      "metadata": {
        "id": "fnQifGbVPO9e"
      }
    },
    {
      "cell_type": "code",
      "execution_count": 1,
      "metadata": {
        "colab": {
          "base_uri": "https://localhost:8080/"
        },
        "id": "kdUTbtd1OvYZ",
        "outputId": "88fe6b0e-b96d-4009-8abd-f91df70ccce4"
      },
      "outputs": [
        {
          "output_type": "stream",
          "name": "stdout",
          "text": [
            " Validation Accuracy: 100.00%\n",
            "Test Accuracy: 96.67%\n"
          ]
        }
      ],
      "source": [
        "from sklearn.datasets import load_iris\n",
        "from sklearn.model_selection import train_test_split\n",
        "from sklearn.ensemble import RandomForestClassifier\n",
        "from sklearn.metrics import accuracy_score\n",
        "\n",
        "# Loading  the Iris dataset\n",
        "data = load_iris()\n",
        "X = data.data  # Features (sepal/petal length & width)\n",
        "y = data.target  # Labels (Setosa, Versicolor, Virginica)\n",
        "\n",
        "# Splitting  into train (60%), validation (20%), and test (20%) sets\n",
        "X_train, X_temp, y_train, y_temp = train_test_split(X, y, test_size=0.4, random_state=42)\n",
        "X_val, X_test, y_val, y_test = train_test_split(X_temp, y_temp, test_size=0.5, random_state=42)\n",
        "\n",
        "# Training  the Random Forest model on the training set\n",
        "model = RandomForestClassifier(n_estimators=100, random_state=42)\n",
        "model.fit(X_train, y_train)\n",
        "\n",
        "# Validating  the model on validation data\n",
        "y_val_pred = model.predict(X_val)\n",
        "val_accuracy = accuracy_score(y_val, y_val_pred)\n",
        "print(f\" Validation Accuracy: {val_accuracy * 100:.2f}%\")\n",
        "\n",
        "# Testing  the model on test data\n",
        "y_test_pred = model.predict(X_test)\n",
        "test_accuracy = accuracy_score(y_test, y_test_pred)\n",
        "print(f\"Test Accuracy: {test_accuracy * 100:.2f}%\")\n"
      ]
    }
  ]
}