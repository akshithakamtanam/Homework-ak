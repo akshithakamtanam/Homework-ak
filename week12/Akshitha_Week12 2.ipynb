{
  "nbformat": 4,
  "nbformat_minor": 0,
  "metadata": {
    "colab": {
      "provenance": []
    },
    "kernelspec": {
      "name": "python3",
      "display_name": "Python 3"
    },
    "language_info": {
      "name": "python"
    }
  },
  "cells": [
    {
      "cell_type": "code",
      "execution_count": 1,
      "metadata": {
        "id": "lNpyxKPkpRqt"
      },
      "outputs": [],
      "source": [
        "import pandas as pd\n",
        "import numpy as np\n",
        "from sklearn.model_selection import train_test_split\n",
        "from sklearn.preprocessing import StandardScaler\n",
        "from sklearn.neural_network import MLPClassifier\n",
        "from sklearn.metrics import mean_squared_error\n",
        "import time"
      ]
    },
    {
      "cell_type": "code",
      "source": [
        "data = pd.read_csv(\"dfdata.csv\")\n",
        "\n",
        "X = data.drop('outcome', axis=1)\n",
        "y = data['outcome']"
      ],
      "metadata": {
        "id": "h5Krp8N1qRuH"
      },
      "execution_count": 2,
      "outputs": []
    },
    {
      "cell_type": "code",
      "source": [
        "configurations = [\n",
        "    {'data_size': 1000, 'hidden_layers': (4,), 'name': '1 hidden layer 4 nodes'},\n",
        "    {'data_size': 10000, 'hidden_layers': (4,), 'name': '1 hidden layer 4 nodes'},\n",
        "    {'data_size': 100000, 'hidden_layers': (4,), 'name': '1 hidden layer 4 nodes'},\n",
        "    {'data_size': 1000, 'hidden_layers': (4, 4), 'name': '2 hidden layers of 4 nodes each'},\n",
        "    {'data_size': 10000, 'hidden_layers': (4, 4), 'name': '2 hidden layers of 4 nodes each'},\n",
        "    {'data_size': 100000, 'hidden_layers': (4, 4), 'name': '2 hidden layers of 4 nodes each'},\n",
        "]\n",
        "\n",
        "# Store results\n",
        "results = []"
      ],
      "metadata": {
        "id": "i9_0LiXaqVPE"
      },
      "execution_count": 3,
      "outputs": []
    },
    {
      "cell_type": "code",
      "source": [
        "for config in configurations:\n",
        "    print(f\"\\nRunning: {config['name']} with {config['data_size']} samples\")\n",
        "\n",
        "    # Generate appropriate amount of data\n",
        "    if config['data_size'] > len(X):\n",
        "        # Create additional synthetic data by sampling with replacement\n",
        "        indices = np.random.choice(len(X), config['data_size'], replace=True)\n",
        "        X_sample = X.iloc[indices]\n",
        "        y_sample = y.iloc[indices]\n",
        "    else:\n",
        "        # Sample without replacement if data size is smaller\n",
        "        X_sample = X.sample(n=config['data_size'], random_state=42)\n",
        "        y_sample = y.loc[X_sample.index]\n",
        "\n",
        "    # Split the data\n",
        "    X_train, X_val, y_train, y_val = train_test_split(\n",
        "        X_sample, y_sample, test_size=0.2, random_state=42, stratify=y_sample\n",
        "    )\n",
        "\n",
        "    # Scale the features\n",
        "    scaler = StandardScaler()\n",
        "    X_train_scaled = scaler.fit_transform(X_train)\n",
        "    X_val_scaled = scaler.transform(X_val)\n",
        "\n",
        "    # Create and train the model\n",
        "    start_time = time.time()\n",
        "\n",
        "    model = MLPClassifier(\n",
        "        hidden_layer_sizes=config['hidden_layers'],\n",
        "        max_iter=1000,\n",
        "        random_state=42,\n",
        "        early_stopping=True,\n",
        "        validation_fraction=0.1\n",
        "    )\n",
        "\n",
        "    model.fit(X_train_scaled, y_train)\n",
        "\n",
        "    end_time = time.time()\n",
        "    execution_time = end_time - start_time\n",
        "\n",
        "    # Calculate errors (using MSE for both training and validation)\n",
        "    y_train_pred = model.predict(X_train_scaled)\n",
        "    y_val_pred = model.predict(X_val_scaled)\n",
        "\n",
        "    train_error = mean_squared_error(y_train, y_train_pred)\n",
        "    val_error = mean_squared_error(y_val, y_val_pred)\n",
        "\n",
        "    # Store results\n",
        "    results.append({\n",
        "        'Data size': config['data_size'],\n",
        "        'Configuration': config['name'],\n",
        "        'Training error': f\"{train_error:.6f}\",\n",
        "        'Validation error': f\"{val_error:.6f}\",\n",
        "        'Time of execution': f\"{execution_time:.2f}s\"\n",
        "    })\n",
        "\n",
        "# Create results dataframe and display\n",
        "results_df = pd.DataFrame(results)\n",
        "print(\"\\n\\nResults Table:\")\n",
        "print(results_df.to_string(index=False))"
      ],
      "metadata": {
        "colab": {
          "base_uri": "https://localhost:8080/"
        },
        "id": "W9uOTeLLqXhk",
        "outputId": "2f970094-1777-4fd4-c169-ea7edf10fb34"
      },
      "execution_count": 4,
      "outputs": [
        {
          "output_type": "stream",
          "name": "stdout",
          "text": [
            "\n",
            "Running: 1 hidden layer 4 nodes with 1000 samples\n",
            "\n",
            "Running: 1 hidden layer 4 nodes with 10000 samples\n",
            "\n",
            "Running: 1 hidden layer 4 nodes with 100000 samples\n",
            "\n",
            "Running: 2 hidden layers of 4 nodes each with 1000 samples\n",
            "\n",
            "Running: 2 hidden layers of 4 nodes each with 10000 samples\n",
            "\n",
            "Running: 2 hidden layers of 4 nodes each with 100000 samples\n",
            "\n",
            "\n",
            "Results Table:\n",
            " Data size                   Configuration Training error Validation error Time of execution\n",
            "      1000          1 hidden layer 4 nodes       0.241250         0.235000             0.12s\n",
            "     10000          1 hidden layer 4 nodes       0.010500         0.016500             3.14s\n",
            "    100000          1 hidden layer 4 nodes       0.000750         0.001200             7.80s\n",
            "      1000 2 hidden layers of 4 nodes each       0.217500         0.220000             0.04s\n",
            "     10000 2 hidden layers of 4 nodes each       0.239750         0.240000             0.21s\n",
            "    100000 2 hidden layers of 4 nodes each       0.000988         0.001600             4.53s\n"
          ]
        }
      ]
    }
  ]
}